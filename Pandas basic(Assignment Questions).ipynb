{
 "cells": [
  {
   "cell_type": "markdown",
   "id": "bf70359e",
   "metadata": {},
   "source": [
    "# Q1. Create a Pandas Series that contains the following data: 4, 8, 15, 16, 23, and 42. Then, print the series."
   ]
  },
  {
   "cell_type": "code",
   "execution_count": 1,
   "id": "69d81e49",
   "metadata": {},
   "outputs": [
    {
     "name": "stdout",
     "output_type": "stream",
     "text": [
      "0     4\n",
      "1     8\n",
      "2    15\n",
      "3    16\n",
      "4    23\n",
      "5    42\n",
      "dtype: int64\n"
     ]
    }
   ],
   "source": [
    "import pandas as pd\n",
    "\n",
    "data = [4, 8, 15, 16, 23, 42]\n",
    "series = pd.Series(data)\n",
    "print(series)\n"
   ]
  },
  {
   "cell_type": "markdown",
   "id": "f02fba99",
   "metadata": {},
   "source": [
    "# Q2. Create a variable of list type containing 10 elements in it, and apply pandas.Series function on the variable print it."
   ]
  },
  {
   "cell_type": "code",
   "execution_count": 2,
   "id": "4d18b3ba",
   "metadata": {},
   "outputs": [
    {
     "name": "stdout",
     "output_type": "stream",
     "text": [
      "0      2\n",
      "1      3\n",
      "2      4\n",
      "3      6\n",
      "4      8\n",
      "5     10\n",
      "6     12\n",
      "7     14\n",
      "8     16\n",
      "9     18\n",
      "10    20\n",
      "dtype: int64\n"
     ]
    }
   ],
   "source": [
    "import pandas as pd \n",
    "\n",
    "list1 = [2, 3, 4, 6, 8, 10, 12, 14, 16, 18, 20]\n",
    "series1 = pd.Series(list1)\n",
    "print(series1)"
   ]
  },
  {
   "cell_type": "markdown",
   "id": "80617a90",
   "metadata": {},
   "source": [
    "# Q3. Create a Pandas DataFrame that contains the following data: Name Alice, Bob, Claire /Age ,25,30,27 /Gender,Female,Male,Female then print the data frame"
   ]
  },
  {
   "cell_type": "code",
   "execution_count": 3,
   "id": "b644b891",
   "metadata": {},
   "outputs": [
    {
     "name": "stdout",
     "output_type": "stream",
     "text": [
      "     Name  Age  Gender\n",
      "0   Alice   25  Female\n",
      "1     Bob   30    Male\n",
      "2  Claire   27  Female\n"
     ]
    }
   ],
   "source": [
    "import pandas as pd \n",
    "\n",
    "dic = {\n",
    "'Name' : ['Alice','Bob','Claire'],\n",
    "'Age' : [25,30,27],\n",
    "'Gender' : ['Female','Male','Female']}\n",
    "\n",
    "df = pd.DataFrame(dic)\n",
    "\n",
    "print(df)"
   ]
  },
  {
   "cell_type": "markdown",
   "id": "fae2611a",
   "metadata": {},
   "source": [
    "# Q4. What is ‘DataFrame’ in pandas and how is it different from pandas.series? Explain with an example."
   ]
  },
  {
   "cell_type": "markdown",
   "id": "1b5e6a6c",
   "metadata": {},
   "source": [
    "DataFrame :- In Pandas, a DataFrame is a two-dimensional, size-mutable, and heterogeneous tabular data structure. It can be thought of as a spreadsheet or SQL table, where data is organized into rows and columns. Each column in a DataFrame can have a different data type (e.g., integers, floats, strings) and is essentially a Pandas Series."
   ]
  },
  {
   "cell_type": "markdown",
   "id": "2b5f44df",
   "metadata": {},
   "source": [
    "Series :- It is a one-dimensional labeled array that can hold data of any type (e.g., integers, floats, strings). A DataFrame is essentially a collection of Series, where each column is a Series. Series, being one-dimensional, lack the tabular structure of a DataFrame."
   ]
  },
  {
   "cell_type": "code",
   "execution_count": 4,
   "id": "a04b4bba",
   "metadata": {},
   "outputs": [
    {
     "name": "stdout",
     "output_type": "stream",
     "text": [
      "series:\n",
      "0    1\n",
      "1    2\n",
      "2    3\n",
      "3    4\n",
      "4    5\n",
      "Name: Series, dtype: int64\n",
      "\n",
      "DataFrame:\n",
      "     Name  Age\n",
      "0  Gaurav   20\n",
      "1  Aditay   21\n",
      "2   Sahil   23\n"
     ]
    }
   ],
   "source": [
    "#Example\n",
    "\n",
    "import pandas as pd \n",
    "\n",
    "#series\n",
    "series_data = pd.Series([1,2,3,4,5],name ='Series')\n",
    "\n",
    "#dataframe\n",
    "dic2 = {\n",
    "    'Name' : ['Gaurav','Aditay','Sahil'],\n",
    "    'Age' : [20,21,23],\n",
    "  \n",
    "}\n",
    "\n",
    "df2 = pd.DataFrame(dic2)\n",
    "\n",
    "print('series:')\n",
    "print(series_data)\n",
    "\n",
    "print('\\nDataFrame:')\n",
    "print(df2)\n",
    "\n",
    "\n",
    "\n"
   ]
  },
  {
   "cell_type": "markdown",
   "id": "286bb452",
   "metadata": {},
   "source": [
    "# Q5. What are some common functions you can use to manipulate data in a Pandas DataFrame? Can you give an example of when you might use one of these functions?"
   ]
  },
  {
   "cell_type": "markdown",
   "id": "8df7c31e",
   "metadata": {},
   "source": [
    "Selection and Filtering:\n",
    "\n",
    "df['column_name'] or df.column_name: Select a specific column.\n",
    "df[['col1', 'col2']]: Select multiple columns."
   ]
  },
  {
   "cell_type": "markdown",
   "id": "8bd1f753",
   "metadata": {},
   "source": [
    "Sorting:\n",
    "\n",
    "df.sort_values(by='column_name'): Sort DataFrame by a specific column.\n",
    "df.sort_values(by=['col1', 'col2']): Sort by multiple columns."
   ]
  },
  {
   "cell_type": "markdown",
   "id": "1df2fa37",
   "metadata": {},
   "source": [
    "Grouping and Aggregation:\n",
    "\n",
    "df.groupby('column_name').agg({'agg_column': 'agg_function'}): Group data and apply aggregation functions (e.g., sum, mean)."
   ]
  },
  {
   "cell_type": "markdown",
   "id": "05f74d8f",
   "metadata": {},
   "source": [
    "Statistics and Summary:\n",
    "\n",
    "df.describe(): Get summary statistics for numeric columns.\n",
    "df['column_name'].value_counts(): Count unique values in a column."
   ]
  },
  {
   "cell_type": "markdown",
   "id": "9156d7af",
   "metadata": {},
   "source": [
    "Merging and Joining:\n",
    "\n",
    "pd.concat([df1, df2]): Concatenate two DataFrames.\n",
    "pd.merge(df1, df2, on='key_column'): Merge DataFrames on a common key column."
   ]
  },
  {
   "cell_type": "markdown",
   "id": "54a7da52",
   "metadata": {},
   "source": [
    "Data Cleaning:\n",
    "\n",
    "df.drop('column_name', axis=1): Remove a column.\n",
    "df.dropna(): Remove rows with missing values.\n",
    "df.fillna(value): Replace missing values with a specified value."
   ]
  },
  {
   "cell_type": "markdown",
   "id": "9af67bac",
   "metadata": {},
   "source": [
    "# Q6. Which of the following is mutable in nature Series, DataFrame, Panel?"
   ]
  },
  {
   "cell_type": "markdown",
   "id": "583f3299",
   "metadata": {},
   "source": [
    "In Pandas:\n",
    "\n",
    "Series is mutable. You can modify the values of a Series after it's created.\n",
    "\n",
    "DataFrame is mutable. You can add or remove columns, change values in cells, and perform various operations to modify the DataFrame.\n",
    "\n",
    "Panel (3D container for data) was deprecated in Pandas 0.25.0 and is no longer part of the core Pandas library as of Pandas version 1.0.0. Therefore, it's not relevant to consider its mutability.\n",
    "\n"
   ]
  },
  {
   "cell_type": "markdown",
   "id": "d0fd2577",
   "metadata": {},
   "source": [
    "# Q7. Create a DataFrame using multiple Series. Explain with an example."
   ]
  },
  {
   "cell_type": "code",
   "execution_count": 5,
   "id": "4d1a6023",
   "metadata": {},
   "outputs": [
    {
     "name": "stdout",
     "output_type": "stream",
     "text": [
      "  Name_stud  Age_stud Gender_stud\n",
      "0    Gaurav        19        Male\n",
      "1   Aditya         20        Male\n",
      "2     Sahil        21        Male\n",
      "3    Sanket        22        Male\n"
     ]
    }
   ],
   "source": [
    "import pandas as pd \n",
    "\n",
    "name_stud = pd.Series(['Gaurav','Aditya ', 'Sahil', 'Sanket'])\n",
    "age_stud = pd.Series([19,20,21,22])\n",
    "gender_stud = pd.Series(['Male', 'Male','Male','Male'])\n",
    "\n",
    "\n",
    "data_stud = {\n",
    "   \"Name_stud\" : name_stud,\n",
    "    \"Age_stud\" : age_stud,\n",
    "    \"Gender_stud\" : gender_stud\n",
    "}\n",
    "\n",
    "\n",
    "df3 = pd.DataFrame(data_stud)\n",
    "\n",
    "print(df3)"
   ]
  },
  {
   "cell_type": "code",
   "execution_count": null,
   "id": "6b77f902",
   "metadata": {},
   "outputs": [],
   "source": []
  }
 ],
 "metadata": {
  "kernelspec": {
   "display_name": "Python 3 (ipykernel)",
   "language": "python",
   "name": "python3"
  },
  "language_info": {
   "codemirror_mode": {
    "name": "ipython",
    "version": 3
   },
   "file_extension": ".py",
   "mimetype": "text/x-python",
   "name": "python",
   "nbconvert_exporter": "python",
   "pygments_lexer": "ipython3",
   "version": "3.9.13"
  }
 },
 "nbformat": 4,
 "nbformat_minor": 5
}
